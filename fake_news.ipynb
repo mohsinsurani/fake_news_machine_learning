{
 "cells": [
  {
   "cell_type": "code",
   "execution_count": 3,
   "id": "9fe4e696",
   "metadata": {},
   "outputs": [],
   "source": [
    "import numpy as np\n",
    "import pandas as pd"
   ]
  },
  {
   "cell_type": "code",
   "execution_count": 4,
   "id": "feb08c97",
   "metadata": {},
   "outputs": [],
   "source": [
    "fake_df = pd.read_csv('archive/Fake.csv')\n",
    "true_df = pd.read_csv('archive/True.csv')"
   ]
  },
  {
   "cell_type": "code",
   "execution_count": 26,
   "id": "7d6a2fac",
   "metadata": {},
   "outputs": [
    {
     "data": {
      "text/html": [
       "<div>\n",
       "<style scoped>\n",
       "    .dataframe tbody tr th:only-of-type {\n",
       "        vertical-align: middle;\n",
       "    }\n",
       "\n",
       "    .dataframe tbody tr th {\n",
       "        vertical-align: top;\n",
       "    }\n",
       "\n",
       "    .dataframe thead th {\n",
       "        text-align: right;\n",
       "    }\n",
       "</style>\n",
       "<table border=\"1\" class=\"dataframe\">\n",
       "  <thead>\n",
       "    <tr style=\"text-align: right;\">\n",
       "      <th></th>\n",
       "      <th>title</th>\n",
       "      <th>text</th>\n",
       "      <th>subject</th>\n",
       "      <th>date</th>\n",
       "    </tr>\n",
       "  </thead>\n",
       "  <tbody>\n",
       "    <tr>\n",
       "      <th>0</th>\n",
       "      <td>Donald Trump Sends Out Embarrassing New Year’...</td>\n",
       "      <td>Donald Trump just couldn t wish all Americans ...</td>\n",
       "      <td>News</td>\n",
       "      <td>December 31, 2017</td>\n",
       "    </tr>\n",
       "    <tr>\n",
       "      <th>1</th>\n",
       "      <td>Drunk Bragging Trump Staffer Started Russian ...</td>\n",
       "      <td>House Intelligence Committee Chairman Devin Nu...</td>\n",
       "      <td>News</td>\n",
       "      <td>December 31, 2017</td>\n",
       "    </tr>\n",
       "    <tr>\n",
       "      <th>2</th>\n",
       "      <td>Sheriff David Clarke Becomes An Internet Joke...</td>\n",
       "      <td>On Friday, it was revealed that former Milwauk...</td>\n",
       "      <td>News</td>\n",
       "      <td>December 30, 2017</td>\n",
       "    </tr>\n",
       "    <tr>\n",
       "      <th>3</th>\n",
       "      <td>Trump Is So Obsessed He Even Has Obama’s Name...</td>\n",
       "      <td>On Christmas day, Donald Trump announced that ...</td>\n",
       "      <td>News</td>\n",
       "      <td>December 29, 2017</td>\n",
       "    </tr>\n",
       "    <tr>\n",
       "      <th>4</th>\n",
       "      <td>Pope Francis Just Called Out Donald Trump Dur...</td>\n",
       "      <td>Pope Francis used his annual Christmas Day mes...</td>\n",
       "      <td>News</td>\n",
       "      <td>December 25, 2017</td>\n",
       "    </tr>\n",
       "  </tbody>\n",
       "</table>\n",
       "</div>"
      ],
      "text/plain": [
       "                                               title  \\\n",
       "0   Donald Trump Sends Out Embarrassing New Year’...   \n",
       "1   Drunk Bragging Trump Staffer Started Russian ...   \n",
       "2   Sheriff David Clarke Becomes An Internet Joke...   \n",
       "3   Trump Is So Obsessed He Even Has Obama’s Name...   \n",
       "4   Pope Francis Just Called Out Donald Trump Dur...   \n",
       "\n",
       "                                                text subject  \\\n",
       "0  Donald Trump just couldn t wish all Americans ...    News   \n",
       "1  House Intelligence Committee Chairman Devin Nu...    News   \n",
       "2  On Friday, it was revealed that former Milwauk...    News   \n",
       "3  On Christmas day, Donald Trump announced that ...    News   \n",
       "4  Pope Francis used his annual Christmas Day mes...    News   \n",
       "\n",
       "                date  \n",
       "0  December 31, 2017  \n",
       "1  December 31, 2017  \n",
       "2  December 30, 2017  \n",
       "3  December 29, 2017  \n",
       "4  December 25, 2017  "
      ]
     },
     "execution_count": 26,
     "metadata": {},
     "output_type": "execute_result"
    }
   ],
   "source": [
    "fake_df.head()"
   ]
  },
  {
   "cell_type": "code",
   "execution_count": 27,
   "id": "084c3afe",
   "metadata": {},
   "outputs": [
    {
     "data": {
      "text/html": [
       "<div>\n",
       "<style scoped>\n",
       "    .dataframe tbody tr th:only-of-type {\n",
       "        vertical-align: middle;\n",
       "    }\n",
       "\n",
       "    .dataframe tbody tr th {\n",
       "        vertical-align: top;\n",
       "    }\n",
       "\n",
       "    .dataframe thead th {\n",
       "        text-align: right;\n",
       "    }\n",
       "</style>\n",
       "<table border=\"1\" class=\"dataframe\">\n",
       "  <thead>\n",
       "    <tr style=\"text-align: right;\">\n",
       "      <th></th>\n",
       "      <th>title</th>\n",
       "      <th>text</th>\n",
       "      <th>subject</th>\n",
       "      <th>date</th>\n",
       "    </tr>\n",
       "  </thead>\n",
       "  <tbody>\n",
       "    <tr>\n",
       "      <th>0</th>\n",
       "      <td>As U.S. budget fight looms, Republicans flip t...</td>\n",
       "      <td>WASHINGTON (Reuters) - The head of a conservat...</td>\n",
       "      <td>politicsNews</td>\n",
       "      <td>December 31, 2017</td>\n",
       "    </tr>\n",
       "    <tr>\n",
       "      <th>1</th>\n",
       "      <td>U.S. military to accept transgender recruits o...</td>\n",
       "      <td>WASHINGTON (Reuters) - Transgender people will...</td>\n",
       "      <td>politicsNews</td>\n",
       "      <td>December 29, 2017</td>\n",
       "    </tr>\n",
       "    <tr>\n",
       "      <th>2</th>\n",
       "      <td>Senior U.S. Republican senator: 'Let Mr. Muell...</td>\n",
       "      <td>WASHINGTON (Reuters) - The special counsel inv...</td>\n",
       "      <td>politicsNews</td>\n",
       "      <td>December 31, 2017</td>\n",
       "    </tr>\n",
       "    <tr>\n",
       "      <th>3</th>\n",
       "      <td>FBI Russia probe helped by Australian diplomat...</td>\n",
       "      <td>WASHINGTON (Reuters) - Trump campaign adviser ...</td>\n",
       "      <td>politicsNews</td>\n",
       "      <td>December 30, 2017</td>\n",
       "    </tr>\n",
       "    <tr>\n",
       "      <th>4</th>\n",
       "      <td>Trump wants Postal Service to charge 'much mor...</td>\n",
       "      <td>SEATTLE/WASHINGTON (Reuters) - President Donal...</td>\n",
       "      <td>politicsNews</td>\n",
       "      <td>December 29, 2017</td>\n",
       "    </tr>\n",
       "  </tbody>\n",
       "</table>\n",
       "</div>"
      ],
      "text/plain": [
       "                                               title  \\\n",
       "0  As U.S. budget fight looms, Republicans flip t...   \n",
       "1  U.S. military to accept transgender recruits o...   \n",
       "2  Senior U.S. Republican senator: 'Let Mr. Muell...   \n",
       "3  FBI Russia probe helped by Australian diplomat...   \n",
       "4  Trump wants Postal Service to charge 'much mor...   \n",
       "\n",
       "                                                text       subject  \\\n",
       "0  WASHINGTON (Reuters) - The head of a conservat...  politicsNews   \n",
       "1  WASHINGTON (Reuters) - Transgender people will...  politicsNews   \n",
       "2  WASHINGTON (Reuters) - The special counsel inv...  politicsNews   \n",
       "3  WASHINGTON (Reuters) - Trump campaign adviser ...  politicsNews   \n",
       "4  SEATTLE/WASHINGTON (Reuters) - President Donal...  politicsNews   \n",
       "\n",
       "                 date  \n",
       "0  December 31, 2017   \n",
       "1  December 29, 2017   \n",
       "2  December 31, 2017   \n",
       "3  December 30, 2017   \n",
       "4  December 29, 2017   "
      ]
     },
     "execution_count": 27,
     "metadata": {},
     "output_type": "execute_result"
    }
   ],
   "source": [
    "true_df.head()"
   ]
  },
  {
   "cell_type": "code",
   "execution_count": 28,
   "id": "51e99bf8",
   "metadata": {},
   "outputs": [
    {
     "data": {
      "text/plain": [
       "False"
      ]
     },
     "execution_count": 28,
     "metadata": {},
     "output_type": "execute_result"
    }
   ],
   "source": [
    "true_df.isnull().values.any()\n",
    "fake_df.isnull().values.any()"
   ]
  },
  {
   "cell_type": "code",
   "execution_count": 5,
   "id": "61cfb2c0",
   "metadata": {},
   "outputs": [],
   "source": [
    "true_df['target'] = 1\n",
    "fake_df['target'] = 0"
   ]
  },
  {
   "cell_type": "code",
   "execution_count": 20,
   "id": "cc3999f5",
   "metadata": {},
   "outputs": [],
   "source": [
    "df = pd.concat([true_df, fake_df], ignore_index=True, sort=False)"
   ]
  },
  {
   "cell_type": "code",
   "execution_count": 21,
   "id": "8cfaba30",
   "metadata": {},
   "outputs": [
    {
     "data": {
      "text/html": [
       "<div>\n",
       "<style scoped>\n",
       "    .dataframe tbody tr th:only-of-type {\n",
       "        vertical-align: middle;\n",
       "    }\n",
       "\n",
       "    .dataframe tbody tr th {\n",
       "        vertical-align: top;\n",
       "    }\n",
       "\n",
       "    .dataframe thead th {\n",
       "        text-align: right;\n",
       "    }\n",
       "</style>\n",
       "<table border=\"1\" class=\"dataframe\">\n",
       "  <thead>\n",
       "    <tr style=\"text-align: right;\">\n",
       "      <th></th>\n",
       "      <th>title</th>\n",
       "      <th>text</th>\n",
       "      <th>subject</th>\n",
       "      <th>date</th>\n",
       "      <th>target</th>\n",
       "    </tr>\n",
       "  </thead>\n",
       "  <tbody>\n",
       "    <tr>\n",
       "      <th>0</th>\n",
       "      <td>As U.S. budget fight looms, Republicans flip t...</td>\n",
       "      <td>WASHINGTON (Reuters) - The head of a conservat...</td>\n",
       "      <td>politicsNews</td>\n",
       "      <td>December 31, 2017</td>\n",
       "      <td>1</td>\n",
       "    </tr>\n",
       "    <tr>\n",
       "      <th>1</th>\n",
       "      <td>U.S. military to accept transgender recruits o...</td>\n",
       "      <td>WASHINGTON (Reuters) - Transgender people will...</td>\n",
       "      <td>politicsNews</td>\n",
       "      <td>December 29, 2017</td>\n",
       "      <td>1</td>\n",
       "    </tr>\n",
       "    <tr>\n",
       "      <th>2</th>\n",
       "      <td>Senior U.S. Republican senator: 'Let Mr. Muell...</td>\n",
       "      <td>WASHINGTON (Reuters) - The special counsel inv...</td>\n",
       "      <td>politicsNews</td>\n",
       "      <td>December 31, 2017</td>\n",
       "      <td>1</td>\n",
       "    </tr>\n",
       "    <tr>\n",
       "      <th>3</th>\n",
       "      <td>FBI Russia probe helped by Australian diplomat...</td>\n",
       "      <td>WASHINGTON (Reuters) - Trump campaign adviser ...</td>\n",
       "      <td>politicsNews</td>\n",
       "      <td>December 30, 2017</td>\n",
       "      <td>1</td>\n",
       "    </tr>\n",
       "    <tr>\n",
       "      <th>4</th>\n",
       "      <td>Trump wants Postal Service to charge 'much mor...</td>\n",
       "      <td>SEATTLE/WASHINGTON (Reuters) - President Donal...</td>\n",
       "      <td>politicsNews</td>\n",
       "      <td>December 29, 2017</td>\n",
       "      <td>1</td>\n",
       "    </tr>\n",
       "  </tbody>\n",
       "</table>\n",
       "</div>"
      ],
      "text/plain": [
       "                                               title  \\\n",
       "0  As U.S. budget fight looms, Republicans flip t...   \n",
       "1  U.S. military to accept transgender recruits o...   \n",
       "2  Senior U.S. Republican senator: 'Let Mr. Muell...   \n",
       "3  FBI Russia probe helped by Australian diplomat...   \n",
       "4  Trump wants Postal Service to charge 'much mor...   \n",
       "\n",
       "                                                text       subject  \\\n",
       "0  WASHINGTON (Reuters) - The head of a conservat...  politicsNews   \n",
       "1  WASHINGTON (Reuters) - Transgender people will...  politicsNews   \n",
       "2  WASHINGTON (Reuters) - The special counsel inv...  politicsNews   \n",
       "3  WASHINGTON (Reuters) - Trump campaign adviser ...  politicsNews   \n",
       "4  SEATTLE/WASHINGTON (Reuters) - President Donal...  politicsNews   \n",
       "\n",
       "                 date  target  \n",
       "0  December 31, 2017        1  \n",
       "1  December 29, 2017        1  \n",
       "2  December 31, 2017        1  \n",
       "3  December 30, 2017        1  \n",
       "4  December 29, 2017        1  "
      ]
     },
     "execution_count": 21,
     "metadata": {},
     "output_type": "execute_result"
    }
   ],
   "source": [
    "df.head()"
   ]
  },
  {
   "cell_type": "code",
   "execution_count": 26,
   "id": "821d85b0",
   "metadata": {},
   "outputs": [
    {
     "ename": "NameError",
     "evalue": "name 'mat' is not defined",
     "output_type": "error",
     "traceback": [
      "\u001b[0;31m---------------------------------------------------------------------------\u001b[0m",
      "\u001b[0;31mNameError\u001b[0m                                 Traceback (most recent call last)",
      "Input \u001b[0;32mIn [26]\u001b[0m, in \u001b[0;36m<cell line: 5>\u001b[0;34m()\u001b[0m\n\u001b[1;32m      3\u001b[0m \u001b[38;5;66;03m#df = df.sample(frac=1).reset_index(drop=True)\u001b[39;00m\n\u001b[1;32m      4\u001b[0m df \u001b[38;5;241m=\u001b[39m sklearn\u001b[38;5;241m.\u001b[39mutils\u001b[38;5;241m.\u001b[39mshuffle(df)\n\u001b[0;32m----> 5\u001b[0m \u001b[43mmat\u001b[49m\u001b[38;5;241m.\u001b[39mfigure(figsize\u001b[38;5;241m=\u001b[39m (\u001b[38;5;241m20\u001b[39m, \u001b[38;5;241m10\u001b[39m))\n\u001b[1;32m      6\u001b[0m sns\u001b[38;5;241m.\u001b[39mheatmap(df\u001b[38;5;241m.\u001b[39mcorr(),annot\u001b[38;5;241m=\u001b[39m \u001b[38;5;28;01mTrue\u001b[39;00m)\n\u001b[1;32m      7\u001b[0m df\u001b[38;5;241m.\u001b[39mhead()\n",
      "\u001b[0;31mNameError\u001b[0m: name 'mat' is not defined"
     ]
    }
   ],
   "source": [
    "import sklearn\n",
    "import seaborn as sns    \n",
    "#df = df.sample(frac=1).reset_index(drop=True)\n",
    "df = sklearn.utils.shuffle(df)\n",
    "mat.figure(figsize= (20, 10))\n",
    "sns.heatmap(df.corr(),annot= True)\n",
    "df.head()"
   ]
  },
  {
   "cell_type": "code",
   "execution_count": 28,
   "id": "bed88cbd",
   "metadata": {},
   "outputs": [
    {
     "name": "stdout",
     "output_type": "stream",
     "text": [
      "21417 23481\n"
     ]
    }
   ],
   "source": [
    "totalLen = len(df['target'])\n",
    "totalTrueVal = len(df[df['target'] == 1])\n",
    "totalFalseVal = len(df[df['target'] == 0])\n",
    "print(totalTrueVal, totalFalseVal)\n",
    "labels = 'True', 'False'\n",
    "sizes = [totalTrueVal * 100/totalLen, totalFalseVal* 100/totalLen]"
   ]
  },
  {
   "cell_type": "code",
   "execution_count": 34,
   "id": "2b696c27",
   "metadata": {},
   "outputs": [
    {
     "data": {
      "image/png": "[encoded data removed]",
      "text/plain": [
       "<Figure size 432x288 with 1 Axes>"
      ]
     },
     "metadata": {},
     "output_type": "display_data"
    }
   ],
   "source": [
    "import matplotlib.pyplot as plt\n",
    "fig1, ax1 = plt.subplots()\n",
    "ax1.pie(sizes, labels=labels, autopct='%1.1f%%',\n",
    "        shadow=True, startangle=90)\n",
    "ax1.axis('equal')  # Equal aspect ratio ensures that pie is drawn as a circle.\n",
    "\n",
    "plt.show()"
   ]
  },
  {
   "cell_type": "code",
   "execution_count": 27,
   "id": "15c69942",
   "metadata": {},
   "outputs": [
    {
     "data": {
      "text/plain": [
       "False"
      ]
     },
     "execution_count": 27,
     "metadata": {},
     "output_type": "execute_result"
    }
   ],
   "source": [
    "df.isnull().values.any()"
   ]
  },
  {
   "cell_type": "code",
   "execution_count": 58,
   "id": "ff8b5fd3",
   "metadata": {},
   "outputs": [
    {
     "data": {
      "image/png": "[encoded data removed]",
      "text/plain": [
       "<Figure size 1080x360 with 2 Axes>"
      ]
     },
     "metadata": {
      "needs_background": "light"
     },
     "output_type": "display_data"
    }
   ],
   "source": [
    "import warnings\n",
    "warnings.simplefilter(action='ignore', category=FutureWarning) \n",
    "import seaborn as sns\n",
    "\n",
    "plt.figure(figsize=(15, 5))\n",
    "ax = plt.subplot(1, 2, 1)\n",
    "sns.countplot('subject', data=fake_df)\n",
    "plt.xticks(rotation=90)\n",
    "plt.ylabel('News count')\n",
    "plt.xlabel('Subject (News categories)')\n",
    "plt.title('Fake news dataset')\n",
    "\n",
    "\n",
    "plt.subplot(1, 2, 2)\n",
    "sns.countplot('subject', data=true_df)\n",
    "plt.ylabel('News count')\n",
    "plt.xlabel('Subject (News categories)')\n",
    "plt.title('True news dataset')\n",
    "plt.show()"
   ]
  },
  {
   "cell_type": "code",
   "execution_count": 72,
   "id": "7615bf6e",
   "metadata": {},
   "outputs": [
    {
     "name": "stdout",
     "output_type": "stream",
     "text": [
      "WASHINGTON (Reuters) - U.S. Attorney General Jeff Sessions said on Thursday he would stay out of any probe into alleged Russian meddling in the 2016 presidential election but maintained he did nothing wrong by failing to disclose he met last year with Russia’s ambassador. Sessions, a longtime U.S. senator who was an early and high-ranking player in President Donald Trump’s campaign before becoming the country’s top law enforcement official, announced the decision after several fellow Republicans in Congress suggested the move would be appropriate. “I have recused myself in the matters that deal with the Trump campaign,” Sessions told reporters at a hastily arranged news conference. Sessions said he had been weighing recusal - ruling himself out from any role in the investigations - even before the latest twist of the controversy over ties between Trump associates and Russia that has dogged the early days of the Trump presidency. The president backed Sessions, saying Democrats had politicized the issue and calling the controversy a “total witch hunt.” Sessions’ announcement did nothing to quell concerns among congressional Democrats, a number of whom called for Sessions to step down. Trump and Republicans who control Congress are trying to move past early administration missteps and focus on issues important to them, including immigration, tax cuts and repealing the Obamacare healthcare law. U.S. intelligence agencies concluded last year that Russia hacked and leaked Democratic emails during the election campaign as part of an effort to tilt the vote in Trump’s favor. The Kremlin has denied the allegations. Sessions denied he had contact with Russian officials when he was asked directly during his Senate confirmation hearing to become attorney general whether he had exchanged information with Russian operatives during the election campaign. He told reporters he was “honest and correct” in his response, although he acknowledged he “should have slowed down” and mentioned he had met with the ambassador in his role as a senator. “I never had meetings with Russian operatives or Russian intermediaries about the Trump campaign,” Sessions said, adding he felt he should not be involved in investigating a campaign in which he had had a role. In a statement on Thursday night, Trump said Sessions “did not say anything wrong. He could have stated his response more accurately, but it was clearly not intentional.”      Sessions’ meetings with Russian Ambassador Sergei Kislyak were disclosed on Wednesday night by the Washington Post. Sessions received Kislyak in his Senate office in September and also met him in July at a Heritage Foundation event at the Republican National Convention that was attended by about 50 ambassadors. Trump fired national security adviser Michael Flynn last month after disclosures that Flynn had discussed U.S. sanctions on Russia with Kislyak before Trump took office and that Flynn misled Vice President Mike Pence about the conversations. The recusal means Sessions, a powerful member of Trump’s inner circle, will not be briefed on details of any probe. Should the Federal Bureau of Investigation decide to move forward with charges, Sessions would not be in a position to weigh in on whether the Department of Justice should take the case. House of Representatives Democratic leader Nancy Pelosi urged Sessions to resign and said “his narrow recusal and sorry attempt to explain away his perjury” were inadequate. Adam Schiff, the top Democrat on the House intelligence committee, said Sessions’ explanation for failing to tell the Senate about his meetings “is simply not credible.” He called on Sessions to step down and said the Justice Department should name an independent prosecutor to investigate Russian interference. Democrats on the House Judiciary Committee asked the FBI to launch a criminal investigation into Sessions’ statements to  Congress about his communication with Russian officials. Sessions is one of many “subjects” of a government investigation of any contacts between the Trump campaign and Russia, two U.S. officials familiar with the probe said. The officials, speaking on condition of anonymity, said Sessions was not now a “target” of the probe by the FBI, the Treasury Department, the CIA and the National Security Agency. The investigation, one of the officials said, had a number of subjects because of the numerous contacts between associates of Trump, including Flynn, and the Russian Embassy in Washington as well as Russian and some Ukrainian businessmen and companies. At least two other officials in Trump’s campaign said they also spoke with the Russian ambassador at a conference on the sidelines of the July convention last July, USA Today reported on Thursday. Trump’s son-in-law and adviser Jared Kushner also met with Kislyak in December at Trump Tower in New York, an administration official said on Thursday, confirming a report in the New Yorker. While there is nothing legally wrong with such meetings, the reported contacts raise questions about the White House’s repeated statements that it knew of no further contacts with Russian officials beyond those by Flynn. Trump has accused officials in former Democratic President Barack Obama’s administration of trying to discredit him with questions about Russia contacts. The White House dismissed the disclosure of the Sessions meetings as a partisan attack, saying his contacts with the ambassador had been as a member of the Armed Services Committee. Trump called frequently during his campaign for improved relations with Russia, drawing criticism from Democrats and some Republicans. Ties with Russia have been deeply strained in recent years over Moscow’s military interference in Ukraine, military support for President Bashar al-Assad in Syria and President Vladimir Putin’s intolerance of political dissent. With his administration on the defensive over Russia, Trump’s enthusiasm seems to have cooled, and his top foreign policy advisers have begun talking tougher about Moscow. The Russian Embassy in Washington, shrugging off the uproar, said on Thursday it was in regular contact with “U.S. partners.” \n",
      "Sentence After removing numbers\n",
      " WASHINGTON (Reuters) - U.S. Attorney General Jeff Sessions said on Thursday he would stay out of any probe into alleged Russian meddling in the  presidential election but maintained he did nothing wrong by failing to disclose he met last year with Russia’s ambassador. Sessions, a longtime U.S. senator who was an early and high-ranking player in President Donald Trump’s campaign before becoming the country’s top law enforcement official, announced the decision after several fellow Republicans in Congress suggested the move would be appropriate. “I have recused myself in the matters that deal with the Trump campaign,” Sessions told reporters at a hastily arranged news conference. Sessions said he had been weighing recusal - ruling himself out from any role in the investigations - even before the latest twist of the controversy over ties between Trump associates and Russia that has dogged the early days of the Trump presidency. The president backed Sessions, saying Democrats had politicized the issue and calling the controversy a “total witch hunt.” Sessions’ announcement did nothing to quell concerns among congressional Democrats, a number of whom called for Sessions to step down. Trump and Republicans who control Congress are trying to move past early administration missteps and focus on issues important to them, including immigration, tax cuts and repealing the Obamacare healthcare law. U.S. intelligence agencies concluded last year that Russia hacked and leaked Democratic emails during the election campaign as part of an effort to tilt the vote in Trump’s favor. The Kremlin has denied the allegations. Sessions denied he had contact with Russian officials when he was asked directly during his Senate confirmation hearing to become attorney general whether he had exchanged information with Russian operatives during the election campaign. He told reporters he was “honest and correct” in his response, although he acknowledged he “should have slowed down” and mentioned he had met with the ambassador in his role as a senator. “I never had meetings with Russian operatives or Russian intermediaries about the Trump campaign,” Sessions said, adding he felt he should not be involved in investigating a campaign in which he had had a role. In a statement on Thursday night, Trump said Sessions “did not say anything wrong. He could have stated his response more accurately, but it was clearly not intentional.”      Sessions’ meetings with Russian Ambassador Sergei Kislyak were disclosed on Wednesday night by the Washington Post. Sessions received Kislyak in his Senate office in September and also met him in July at a Heritage Foundation event at the Republican National Convention that was attended by about  ambassadors. Trump fired national security adviser Michael Flynn last month after disclosures that Flynn had discussed U.S. sanctions on Russia with Kislyak before Trump took office and that Flynn misled Vice President Mike Pence about the conversations. The recusal means Sessions, a powerful member of Trump’s inner circle, will not be briefed on details of any probe. Should the Federal Bureau of Investigation decide to move forward with charges, Sessions would not be in a position to weigh in on whether the Department of Justice should take the case. House of Representatives Democratic leader Nancy Pelosi urged Sessions to resign and said “his narrow recusal and sorry attempt to explain away his perjury” were inadequate. Adam Schiff, the top Democrat on the House intelligence committee, said Sessions’ explanation for failing to tell the Senate about his meetings “is simply not credible.” He called on Sessions to step down and said the Justice Department should name an independent prosecutor to investigate Russian interference. Democrats on the House Judiciary Committee asked the FBI to launch a criminal investigation into Sessions’ statements to  Congress about his communication with Russian officials. Sessions is one of many “subjects” of a government investigation of any contacts between the Trump campaign and Russia, two U.S. officials familiar with the probe said. The officials, speaking on condition of anonymity, said Sessions was not now a “target” of the probe by the FBI, the Treasury Department, the CIA and the National Security Agency. The investigation, one of the officials said, had a number of subjects because of the numerous contacts between associates of Trump, including Flynn, and the Russian Embassy in Washington as well as Russian and some Ukrainian businessmen and companies. At least two other officials in Trump’s campaign said they also spoke with the Russian ambassador at a conference on the sidelines of the July convention last July, USA Today reported on Thursday. Trump’s son-in-law and adviser Jared Kushner also met with Kislyak in December at Trump Tower in New York, an administration official said on Thursday, confirming a report in the New Yorker. While there is nothing legally wrong with such meetings, the reported contacts raise questions about the White House’s repeated statements that it knew of no further contacts with Russian officials beyond those by Flynn. Trump has accused officials in former Democratic President Barack Obama’s administration of trying to discredit him with questions about Russia contacts. The White House dismissed the disclosure of the Sessions meetings as a partisan attack, saying his contacts with the ambassador had been as a member of the Armed Services Committee. Trump called frequently during his campaign for improved relations with Russia, drawing criticism from Democrats and some Republicans. Ties with Russia have been deeply strained in recent years over Moscow’s military interference in Ukraine, military support for President Bashar al-Assad in Syria and President Vladimir Putin’s intolerance of political dissent. With his administration on the defensive over Russia, Trump’s enthusiasm seems to have cooled, and his top foreign policy advisers have begun talking tougher about Moscow. The Russian Embassy in Washington, shrugging off the uproar, said on Thursday it was in regular contact with “U.S. partners.” \n",
      "Sentence After Removing Punctuations\n",
      " WASHINGTON Reuters  US Attorney General Jeff Sessions said on Thursday he would stay out of any probe into alleged Russian meddling in the  presidential election but maintained he did nothing wrong by failing to disclose he met last year with Russia’s ambassador Sessions a longtime US senator who was an early and highranking player in President Donald Trump’s campaign before becoming the country’s top law enforcement official announced the decision after several fellow Republicans in Congress suggested the move would be appropriate “I have recused myself in the matters that deal with the Trump campaign” Sessions told reporters at a hastily arranged news conference Sessions said he had been weighing recusal  ruling himself out from any role in the investigations  even before the latest twist of the controversy over ties between Trump associates and Russia that has dogged the early days of the Trump presidency The president backed Sessions saying Democrats had politicized the issue and calling the controversy a “total witch hunt” Sessions’ announcement did nothing to quell concerns among congressional Democrats a number of whom called for Sessions to step down Trump and Republicans who control Congress are trying to move past early administration missteps and focus on issues important to them including immigration tax cuts and repealing the Obamacare healthcare law US intelligence agencies concluded last year that Russia hacked and leaked Democratic emails during the election campaign as part of an effort to tilt the vote in Trump’s favor The Kremlin has denied the allegations Sessions denied he had contact with Russian officials when he was asked directly during his Senate confirmation hearing to become attorney general whether he had exchanged information with Russian operatives during the election campaign He told reporters he was “honest and correct” in his response although he acknowledged he “should have slowed down” and mentioned he had met with the ambassador in his role as a senator “I never had meetings with Russian operatives or Russian intermediaries about the Trump campaign” Sessions said adding he felt he should not be involved in investigating a campaign in which he had had a role In a statement on Thursday night Trump said Sessions “did not say anything wrong He could have stated his response more accurately but it was clearly not intentional”      Sessions’ meetings with Russian Ambassador Sergei Kislyak were disclosed on Wednesday night by the Washington Post Sessions received Kislyak in his Senate office in September and also met him in July at a Heritage Foundation event at the Republican National Convention that was attended by about  ambassadors Trump fired national security adviser Michael Flynn last month after disclosures that Flynn had discussed US sanctions on Russia with Kislyak before Trump took office and that Flynn misled Vice President Mike Pence about the conversations The recusal means Sessions a powerful member of Trump’s inner circle will not be briefed on details of any probe Should the Federal Bureau of Investigation decide to move forward with charges Sessions would not be in a position to weigh in on whether the Department of Justice should take the case House of Representatives Democratic leader Nancy Pelosi urged Sessions to resign and said “his narrow recusal and sorry attempt to explain away his perjury” were inadequate Adam Schiff the top Democrat on the House intelligence committee said Sessions’ explanation for failing to tell the Senate about his meetings “is simply not credible” He called on Sessions to step down and said the Justice Department should name an independent prosecutor to investigate Russian interference Democrats on the House Judiciary Committee asked the FBI to launch a criminal investigation into Sessions’ statements to  Congress about his communication with Russian officials Sessions is one of many “subjects” of a government investigation of any contacts between the Trump campaign and Russia two US officials familiar with the probe said The officials speaking on condition of anonymity said Sessions was not now a “target” of the probe by the FBI the Treasury Department the CIA and the National Security Agency The investigation one of the officials said had a number of subjects because of the numerous contacts between associates of Trump including Flynn and the Russian Embassy in Washington as well as Russian and some Ukrainian businessmen and companies At least two other officials in Trump’s campaign said they also spoke with the Russian ambassador at a conference on the sidelines of the July convention last July USA Today reported on Thursday Trump’s soninlaw and adviser Jared Kushner also met with Kislyak in December at Trump Tower in New York an administration official said on Thursday confirming a report in the New Yorker While there is nothing legally wrong with such meetings the reported contacts raise questions about the White House’s repeated statements that it knew of no further contacts with Russian officials beyond those by Flynn Trump has accused officials in former Democratic President Barack Obama’s administration of trying to discredit him with questions about Russia contacts The White House dismissed the disclosure of the Sessions meetings as a partisan attack saying his contacts with the ambassador had been as a member of the Armed Services Committee Trump called frequently during his campaign for improved relations with Russia drawing criticism from Democrats and some Republicans Ties with Russia have been deeply strained in recent years over Moscow’s military interference in Ukraine military support for President Bashar alAssad in Syria and President Vladimir Putin’s intolerance of political dissent With his administration on the defensive over Russia Trump’s enthusiasm seems to have cooled and his top foreign policy advisers have begun talking tougher about Moscow The Russian Embassy in Washington shrugging off the uproar said on Thursday it was in regular contact with “US partners” \n"
     ]
    }
   ],
   "source": [
    "import re\n",
    "import string\n",
    "\n",
    "samp = df.sample(1)\n",
    "text = samp.iloc[0]['text']\n",
    "print (text)\n",
    "text = re.sub(r'\\d+','',text)\n",
    "print ('Sentence After removing numbers\\n',text)\n",
    "\n",
    "text = text.translate(sentence.maketrans(\"\",\"\",string.punctuation))\n",
    "print ('Sentence After Removing Punctuations\\n',text)"
   ]
  },
  {
   "cell_type": "code",
   "execution_count": 9,
   "id": "d70319be",
   "metadata": {},
   "outputs": [
    {
     "name": "stdout",
     "output_type": "stream",
     "text": [
      "Sentence before removing numbers\n",
      " Some people believe that Trump is  journaling  his thoughts by posting on Twitter. He s being transparent, they say.What these people fail to realize is, maybe sharing his thoughts to the entire world isn t the best idea.Or, maybe it is a good idea. We get to really see what kind of man Trump is while he shoots himself in the foot.According to Fortune, Donald Trump s tweets about his  travel ban  helped convince an appeals court to block the controversial plan once again. It s the second time his own comments have helped the courts knock down the executive order.The 9th Circuit Court of Appeals came to a decision on Monday, ruling that Trump s attempt to block immigration from six predominantly Muslim countries  exceeded the scope of the authority delegated to him by Congress. In their ruling, the judges cited a tweet from the President that was posted after the recent terrorist attack in London. In this tweet, Trump stated that the U.S. needed a travel ban  for certain dangerous countries. President Trump s tweets continue to be cited in court decisions. This from the 9th circuit just now: pic.twitter.com/4qN3thefAq  Matt Viser (@mviser) June 12, 2017Gee. I wonder which countries he means.Trump didn t stop at one tweet about the ban, either. Trump also tweeted that he supported his original order, not the  watered down, politically correct version  that his own advisers had convinced him to sign.The Justice Dept. should have stayed with the original Travel Ban, not the watered down, politically correct version they submitted to S.C.  Donald J. Trump (@realDonaldTrump) June 5, 2017No matter what way they try to spin it, we all know that Trump means a disgusting Muslim ban. He even outright admitted it by saying he does not support the  politically correct version . And even that  politically correct version  was a bunch of crap, too.Luckily, the courts recognize this. The Order seeks to ban people from specific countries, but it does not provide any link between an individual s nationality and their propensity to commit terrorism or their inherent dangerousness,  the judges said.  In short, the Order does not provide a rationale explaining why permitting entry of nationals from the six designated countries  would be detrimental. Source: FortuneKicking yourself now for stating that Trump s tweets are official White House statements, aren t you, Spicer?Like I said   there s obvious good from Trump s Twittering. Trump helped stopped his travel ban executive order once again.Featured Image by Alex Wong/Getty Images\n"
     ]
    },
    {
     "ename": "NameError",
     "evalue": "name 'stopwords' is not defined",
     "output_type": "error",
     "traceback": [
      "\u001b[0;31m---------------------------------------------------------------------------\u001b[0m",
      "\u001b[0;31mNameError\u001b[0m                                 Traceback (most recent call last)",
      "Input \u001b[0;32mIn [9]\u001b[0m, in \u001b[0;36m<cell line: 8>\u001b[0;34m()\u001b[0m\n\u001b[1;32m      6\u001b[0m \u001b[38;5;28mprint\u001b[39m (\u001b[38;5;124m'\u001b[39m\u001b[38;5;124mSentence before removing numbers\u001b[39m\u001b[38;5;130;01m\\n\u001b[39;00m\u001b[38;5;124m'\u001b[39m,text)\n\u001b[1;32m      7\u001b[0m text \u001b[38;5;241m=\u001b[39m text\u001b[38;5;241m.\u001b[39msplit()\n\u001b[0;32m----> 8\u001b[0m text \u001b[38;5;241m=\u001b[39m [stemmer\u001b[38;5;241m.\u001b[39mstem(word) \u001b[38;5;28;01mfor\u001b[39;00m word \u001b[38;5;129;01min\u001b[39;00m text \u001b[38;5;28;01mif\u001b[39;00m \u001b[38;5;129;01mnot\u001b[39;00m word \u001b[38;5;129;01min\u001b[39;00m stopwords\u001b[38;5;241m.\u001b[39mwords(\u001b[38;5;124m'\u001b[39m\u001b[38;5;124menglish\u001b[39m\u001b[38;5;124m'\u001b[39m)]\n\u001b[1;32m     10\u001b[0m \u001b[38;5;28mprint\u001b[39m (\u001b[38;5;124m'\u001b[39m\u001b[38;5;124mSentence After removing numbers\u001b[39m\u001b[38;5;130;01m\\n\u001b[39;00m\u001b[38;5;124m'\u001b[39m,text)\n",
      "Input \u001b[0;32mIn [9]\u001b[0m, in \u001b[0;36m<listcomp>\u001b[0;34m(.0)\u001b[0m\n\u001b[1;32m      6\u001b[0m \u001b[38;5;28mprint\u001b[39m (\u001b[38;5;124m'\u001b[39m\u001b[38;5;124mSentence before removing numbers\u001b[39m\u001b[38;5;130;01m\\n\u001b[39;00m\u001b[38;5;124m'\u001b[39m,text)\n\u001b[1;32m      7\u001b[0m text \u001b[38;5;241m=\u001b[39m text\u001b[38;5;241m.\u001b[39msplit()\n\u001b[0;32m----> 8\u001b[0m text \u001b[38;5;241m=\u001b[39m [stemmer\u001b[38;5;241m.\u001b[39mstem(word) \u001b[38;5;28;01mfor\u001b[39;00m word \u001b[38;5;129;01min\u001b[39;00m text \u001b[38;5;28;01mif\u001b[39;00m \u001b[38;5;129;01mnot\u001b[39;00m word \u001b[38;5;129;01min\u001b[39;00m \u001b[43mstopwords\u001b[49m\u001b[38;5;241m.\u001b[39mwords(\u001b[38;5;124m'\u001b[39m\u001b[38;5;124menglish\u001b[39m\u001b[38;5;124m'\u001b[39m)]\n\u001b[1;32m     10\u001b[0m \u001b[38;5;28mprint\u001b[39m (\u001b[38;5;124m'\u001b[39m\u001b[38;5;124mSentence After removing numbers\u001b[39m\u001b[38;5;130;01m\\n\u001b[39;00m\u001b[38;5;124m'\u001b[39m,text)\n",
      "\u001b[0;31mNameError\u001b[0m: name 'stopwords' is not defined"
     ]
    }
   ],
   "source": [
    "import re\n",
    "import string\n",
    "\n",
    "samp = df.sample(1)\n",
    "text = samp.iloc[0]['text']\n",
    "print ('Sentence before removing numbers\\n',text)\n",
    "text = text.split()\n",
    "text = [stemmer.stem(word) for word in text if not word in stopwords.words('english')]\n",
    "print ('Sentence After removing numbers\\n',text)"
   ]
  },
  {
   "cell_type": "code",
   "execution_count": 73,
   "id": "3cbfe480",
   "metadata": {},
   "outputs": [
    {
     "name": "stdout",
     "output_type": "stream",
     "text": [
      "['', 'past', 'inadequate', 'Moscow', 'Today', 'move', 'New', 'dogged', 'Ukraine', 'simply', 'misled', 'hearing', 'hunt”', 'quell', 'repealing', 'case', 'backed', '“target”', 'discussed', 'fellow', 'policy', 'national', 'Jared', 'correct”', 'general', '“subjects”', 'Moscow’s', 'latest', 'Trump’s', 'adding', 'Russian', 'allegations', 'USA', 'York', 'credible”', 'role', 'several', 'month', 'deeply', 'issues', 'Michael', 'concerns', 'communication', 'In', 'convention', 'campaign”', 'enforcement', 'suggested', 'seems', 'top', 'disclosed', 'leader', 'disclosure', 'never', 'said', 'well', 'National', 'least', 'deal', 'emails', 'matters', 'recused', 'foreign', 'political', 'twist', 'Sessions’', 'country’s', 'intentional”', 'independent', 'Mike', 'The', 'meddling', 'investigating', 'position', 'longtime', 'conversations', 'member', 'He', 'law', 'whether', 'take', 'Foundation', 'resign', 'Security', 'defensive', 'early', '“total', 'improved', 'Schiff', 'launch', 'weighing', 'healthcare', 'down”', 'enthusiasm', 'including', 'September', 'accused', 'Services', 'would', 'meetings', 'Democrats', 'told', 'accurately', 'slowed', 'Attorney', 'ambassadors', 'military', 'Judiciary', 'number', 'narrow', 'statement', 'appropriate', 'Embassy', 'Obamacare', 'Senate', 'raise', 'regular', 'intolerance', 'information', 'met', 'legally', 'beyond', 'politicized', 'ruling', 'campaign', 'President', 'adviser', 'Justice', 'Republican', 'Washington', 'arranged', 'ambassador', 'event', 'Democrat', 'uproar', 'wrong', 'sorry', 'criminal', 'cuts', 'begun', 'details', 'among', 'contact', 'Thursday', 'shrugging', 'talking', 'news', 'probe', 'fired', 'senator', 'year', 'controversy', 'concluded', 'subjects', 'confirming', 'decide', 'mentioned', 'Jeff', '“his', 'weigh', 'witch', 'Syria', 'agencies', 'Republicans', 'contacts', 'Bureau', 'dismissed', 'former', 'name', 'Should', 'attack', 'maintained', 'conference', 'December', 'attended', 'Investigation', 'frequently', 'inner', 'security', 'decision', 'circle', '“should', 'US', 'Ties', 'reporters', 'Yorker', 'Kremlin', 'administration', 'White', 'could', 'although', 'disclosures', 'officials', '“I', 'interference', 'away', 'Federal', 'Agency', 'Donald', 'directly', 'Adam', 'election', 'Wednesday', 'hacked', 'Bashar', 'prosecutor', 'FBI', 'urged', 'Armed', 'powerful', 'House’s', 'recent', 'official', 'recusal', 'important', 'Pence', 'At', 'tougher', 'Russia’s', 'denied', 'criticism', 'reported', 'associates', 'Trump', 'Vice', 'Congress', 'tilt', 'congressional', 'forward', 'investigate', 'intermediaries', 'repeated', 'operatives', 'knew', 'become', 'presidential', 'Sergei', '“did', 'perjury”', 'spoke', 'Heritage', 'control', 'statements', 'clearly', 'presidency', 'government', '“US', 'Sessions', 'dissent', 'night', 'anonymity', 'attorney', 'relations', 'Vladimir', 'Obama’s', 'Kushner', 'highranking', 'Putin’s', 'trying', 'alleged', 'discredit', 'response', 'Pelosi', 'July', 'businessmen', 'sanctions', 'focus', 'alAssad', 'tell', 'drawing', 'effort', 'explanation', 'WASHINGTON', 'immigration', 'many', 'partners”', 'called', 'hastily', 'Department', 'asked', 'also', 'confirmation', 'Tower', 'missteps', 'General', 'Convention', 'player', 'Barack', 'Nancy', 'partisan', 'intelligence', 'announced', 'felt', 'vote', 'failing', 'two', 'CIA', 'office', 'anything', 'support', 'Flynn', 'saying', 'step', 'issue', 'leaked', 'Treasury', 'years', 'acknowledged', 'becoming', 'explain', 'announcement', 'companies', 'strained', 'investigation', 'even', 'disclose', 'days', 'condition', 'familiar', 'Ukrainian', 'nothing', 'Reuters', 'While', 'tax', 'calling', '“honest', 'advisers', 'president', 'briefed', 'exchanged', 'favor', 'took', 'ties', 'stated', 'one', 'Committee', 'involved', 'stay', 'Russia', 'sidelines', 'attempt', 'report', '“is', 'part', 'speaking', 'questions', 'investigations', 'House', 'Democratic', 'Kislyak', 'received', 'means', 'numerous', 'cooled', 'committee', 'charges', 'soninlaw', 'Ambassador', 'With', 'Representatives', 'say', 'Post', 'last']\n"
     ]
    },
    {
     "name": "stderr",
     "output_type": "stream",
     "text": [
      "[nltk_data] Downloading package punkt to /Users/admin/nltk_data...\n",
      "[nltk_data]   Package punkt is already up-to-date!\n",
      "[nltk_data] Downloading package stopwords to /Users/admin/nltk_data...\n",
      "[nltk_data]   Package stopwords is already up-to-date!\n"
     ]
    }
   ],
   "source": [
    "import nltk\n",
    "nltk.download('punkt')\n",
    "nltk.download('stopwords')\n",
    "stop_words = set(nltk.corpus.stopwords.words('english'))\n",
    "words_in_text = list(set(text.split(' ')) - stop_words)\n",
    "print (words_in_text)"
   ]
  },
  {
   "cell_type": "code",
   "execution_count": 76,
   "id": "93d4e192",
   "metadata": {},
   "outputs": [
    {
     "name": "stderr",
     "output_type": "stream",
     "text": [
      "[nltk_data] Downloading package wordnet to /Users/admin/nltk_data...\n",
      "[nltk_data]   Package wordnet is already up-to-date!\n",
      "[nltk_data] Downloading package omw-1.4 to /Users/admin/nltk_data...\n",
      "[nltk_data]   Package omw-1.4 is already up-to-date!\n"
     ]
    },
    {
     "name": "stdout",
     "output_type": "stream",
     "text": [
      "['', 'past', 'inadequ', 'moscow', 'today', 'move', 'new', 'dog', 'ukrain', 'simpli', 'misl', 'hear', 'hunt”', 'quell', 'repeal', 'case', 'back', '“target”', 'discu', 'fellow', 'polici', 'nation', 'jare', 'correct”', 'gener', '“subjects”', 'moscow’', 'latest', 'trump’', 'ad', 'russian', 'alleg', 'usa', 'york', 'credible”', 'role', 'sever', 'month', 'deepli', 'issu', 'michael', 'concern', 'commun', 'in', 'convent', 'campaign”', 'enforc', 'suggest', 'seem', 'top', 'disclo', 'leader', 'disclosur', 'never', 'said', 'well', 'nation', 'least', 'deal', 'email', 'matter', 'recu', 'foreign', 'polit', 'twist', 'sessions’', 'country’', 'intentional”', 'independ', 'mike', 'the', 'meddl', 'investig', 'posit', 'longtim', 'conver', 'member', 'he', 'law', 'whether', 'take', 'foundat', 'resign', 'secur', 'defen', 'earli', '“total', 'improv', 'schiff', 'launch', 'weigh', 'healthcar', 'down”', 'enthusiasm', 'includ', 'septemb', 'accu', 'servic', 'would', 'meet', 'democrat', 'told', 'accur', 'slow', 'attorney', 'ambassador', 'militari', 'judiciari', 'number', 'narrow', 'statement', 'appropri', 'embassi', 'obamacar', 'senat', 'rai', 'regular', 'intol', 'inform', 'met', 'legal', 'beyond', 'polit', 'rule', 'campaign', 'presid', 'advi', 'justic', 'republican', 'washington', 'arrang', 'ambassador', 'event', 'democrat', 'uproar', 'wrong', 'sorri', 'crimin', 'cut', 'begun', 'detail', 'among', 'contact', 'thursday', 'shrug', 'talk', 'news', 'probe', 'fire', 'senat', 'year', 'controversi', 'conclud', 'subject', 'confirm', 'decid', 'mention', 'jeff', '“hi', 'weigh', 'witch', 'syria', 'agenc', 'republican', 'contact', 'bureau', 'dismiss', 'former', 'name', 'should', 'attack', 'maintain', 'confer', 'decemb', 'attend', 'investig', 'frequent', 'inner', 'secur', 'deci', 'circl', '“should', 'u', 'tie', 'report', 'yorker', 'kremlin', 'administr', 'white', 'could', 'although', 'disclosur', 'offici', '“i', 'interf', 'away', 'feder', 'agenc', 'donald', 'directli', 'adam', 'elect', 'wednesday', 'hack', 'bashar', 'prosecutor', 'fbi', 'urg', 'arm', 'power', 'house’', 'recent', 'offici', 'recu', 'import', 'penc', 'at', 'tougher', 'russia’', 'deni', 'critic', 'report', 'associ', 'trump', 'vice', 'congress', 'tilt', 'congress', 'forward', 'investig', 'intermediari', 'repeat', 'oper', 'knew', 'becom', 'presidenti', 'sergei', '“did', 'perjury”', 'spoke', 'heritag', 'control', 'statement', 'clearli', 'presid', 'govern', '“u', 'session', 'dissent', 'night', 'anonym', 'attorney', 'relat', 'vladimir', 'obama’', 'kushner', 'highrank', 'putin’', 'tri', 'alleg', 'discredit', 'respon', 'pelosi', 'juli', 'businessmen', 'sanction', 'focu', 'alassad', 'tell', 'draw', 'effort', 'explan', 'washington', 'immigr', 'mani', 'partners”', 'call', 'hastili', 'depart', 'ask', 'also', 'confirm', 'tower', 'misstep', 'gener', 'convent', 'player', 'barack', 'nanci', 'partisan', 'intellig', 'announc', 'felt', 'vote', 'fail', 'two', 'cia', 'offic', 'anyth', 'support', 'flynn', 'say', 'step', 'issu', 'leak', 'treasuri', 'year', 'acknowledg', 'becom', 'explain', 'announc', 'compani', 'strain', 'investig', 'even', 'disclo', 'day', 'condit', 'familiar', 'ukrainian', 'noth', 'reuter', 'while', 'tax', 'call', '“honest', 'advi', 'presid', 'brief', 'exchang', 'favor', 'took', 'tie', 'state', 'one', 'committ', 'involv', 'stay', 'russia', 'sidelin', 'attempt', 'report', '“i', 'part', 'speak', 'question', 'investig', 'hou', 'democrat', 'kislyak', 'receiv', 'mean', 'numer', 'cool', 'committ', 'charg', 'soninlaw', 'ambassador', 'with', 'repr', 'say', 'post', 'last']\n",
      "['', 'past', 'inadequ', 'moscow', 'today', 'move', 'new', 'dog', 'ukrain', 'simpli', 'misl', 'hear', 'hunt”', 'quell', 'repeal', 'case', 'back', '“target”', 'discu', 'fellow', 'polici', 'nation', 'jare', 'correct”', 'gener', '“subjects”', 'moscow’', 'latest', 'trump’', 'ad', 'russian', 'alleg', 'usa', 'york', 'credible”', 'role', 'sever', 'month', 'deepli', 'issu', 'michael', 'concern', 'commun', 'in', 'convent', 'campaign”', 'enforc', 'suggest', 'seem', 'top', 'disclo', 'leader', 'disclosur', 'never', 'said', 'well', 'nation', 'least', 'deal', 'email', 'matter', 'recu', 'foreign', 'polit', 'twist', 'sessions’', 'country’', 'intentional”', 'independ', 'mike', 'the', 'meddl', 'investig', 'posit', 'longtim', 'conver', 'member', 'he', 'law', 'whether', 'take', 'foundat', 'resign', 'secur', 'defen', 'earli', '“total', 'improv', 'schiff', 'launch', 'weigh', 'healthcar', 'down”', 'enthusiasm', 'includ', 'septemb', 'accu', 'servic', 'would', 'meet', 'democrat', 'told', 'accur', 'slow', 'attorney', 'ambassador', 'militari', 'judiciari', 'number', 'narrow', 'statement', 'appropri', 'embassi', 'obamacar', 'senat', 'rai', 'regular', 'intol', 'inform', 'met', 'legal', 'beyond', 'polit', 'rule', 'campaign', 'presid', 'advi', 'justic', 'republican', 'washington', 'arrang', 'ambassador', 'event', 'democrat', 'uproar', 'wrong', 'sorri', 'crimin', 'cut', 'begun', 'detail', 'among', 'contact', 'thursday', 'shrug', 'talk', 'news', 'probe', 'fire', 'senat', 'year', 'controversi', 'conclud', 'subject', 'confirm', 'decid', 'mention', 'jeff', '“hi', 'weigh', 'witch', 'syria', 'agenc', 'republican', 'contact', 'bureau', 'dismiss', 'former', 'name', 'should', 'attack', 'maintain', 'confer', 'decemb', 'attend', 'investig', 'frequent', 'inner', 'secur', 'deci', 'circl', '“should', 'u', 'tie', 'report', 'yorker', 'kremlin', 'administr', 'white', 'could', 'although', 'disclosur', 'offici', '“i', 'interf', 'away', 'feder', 'agenc', 'donald', 'directli', 'adam', 'elect', 'wednesday', 'hack', 'bashar', 'prosecutor', 'fbi', 'urg', 'arm', 'power', 'house’', 'recent', 'offici', 'recu', 'import', 'penc', 'at', 'tougher', 'russia’', 'deni', 'critic', 'report', 'associ', 'trump', 'vice', 'congress', 'tilt', 'congress', 'forward', 'investig', 'intermediari', 'repeat', 'oper', 'knew', 'becom', 'presidenti', 'sergei', '“did', 'perjury”', 'spoke', 'heritag', 'control', 'statement', 'clearli', 'presid', 'govern', '“u', 'session', 'dissent', 'night', 'anonym', 'attorney', 'relat', 'vladimir', 'obama’', 'kushner', 'highrank', 'putin’', 'tri', 'alleg', 'discredit', 'respon', 'pelosi', 'juli', 'businessmen', 'sanction', 'focu', 'alassad', 'tell', 'draw', 'effort', 'explan', 'washington', 'immigr', 'mani', 'partners”', 'call', 'hastili', 'depart', 'ask', 'also', 'confirm', 'tower', 'misstep', 'gener', 'convent', 'player', 'barack', 'nanci', 'partisan', 'intellig', 'announc', 'felt', 'vote', 'fail', 'two', 'cia', 'offic', 'anyth', 'support', 'flynn', 'say', 'step', 'issu', 'leak', 'treasuri', 'year', 'acknowledg', 'becom', 'explain', 'announc', 'compani', 'strain', 'investig', 'even', 'disclo', 'day', 'condit', 'familiar', 'ukrainian', 'noth', 'reuter', 'while', 'tax', 'call', '“honest', 'advi', 'presid', 'brief', 'exchang', 'favor', 'took', 'tie', 'state', 'one', 'committ', 'involv', 'stay', 'russia', 'sidelin', 'attempt', 'report', '“i', 'part', 'speak', 'question', 'investig', 'hou', 'democrat', 'kislyak', 'receiv', 'mean', 'numer', 'cool', 'committ', 'charg', 'soninlaw', 'ambassador', 'with', 'repr', 'say', 'post', 'last']\n"
     ]
    }
   ],
   "source": [
    "from nltk.stem import PorterStemmer\n",
    "nltk.download('wordnet')\n",
    "nltk.download('omw-1.4')\n",
    "pstemmer= PorterStemmer()\n",
    "for i,word in enumerate(words_in_text):\n",
    "    words_in_text[i] = pstemmer.stem(word)\n",
    "print (words_in_text)    \n",
    "\n",
    "#Lemmatization of Words\n",
    "#Lemmatisation is the process of grouping together the different inflected forms of a word so they can be analysed as a single item. Ex: dogs -> dog. I am not clear with difference between lemmatization and stemming. In most of the tutorials, I found them both and I could not understand the clear difference between the two.\n",
    "\n",
    "from nltk.stem import WordNetLemmatizer\n",
    "nlemmatizer=WordNetLemmatizer()\n",
    "words = []\n",
    "for i,word in enumerate(words_in_text):\n",
    "    words_in_text[i] = nlemmatizer.lemmatize(word)\n",
    "print (words_in_text)"
   ]
  },
  {
   "cell_type": "code",
   "execution_count": 77,
   "id": "40fff43c",
   "metadata": {},
   "outputs": [],
   "source": [
    "from sklearn.model_selection import train_test_split\n",
    "train, test = train_test_split(df, test_size=0.2)"
   ]
  },
  {
   "cell_type": "code",
   "execution_count": 78,
   "id": "0e7f4ccc",
   "metadata": {},
   "outputs": [],
   "source": [
    "word_count = {}\n",
    "word_count_true = {}\n",
    "word_count_false = {}\n",
    "true  = 0\n",
    "false = 0 \n",
    "\n",
    "import re\n",
    "import string\n",
    "import nltk\n",
    "stop_words = set(nltk.corpus.stopwords.words('english'))\n",
    "from nltk.stem import PorterStemmer\n",
    "pstemmer= PorterStemmer()\n",
    "from nltk.stem import WordNetLemmatizer\n",
    "wnlemmatizer=WordNetLemmatizer()"
   ]
  },
  {
   "cell_type": "code",
   "execution_count": 82,
   "id": "bddbc00e",
   "metadata": {},
   "outputs": [
    {
     "name": "stdout",
     "output_type": "stream",
     "text": [
      "Done\n"
     ]
    }
   ],
   "source": [
    "row_count = train.shape[0]\n",
    "for row in range(0,row_count):\n",
    "    true += train.iloc[row]['target']\n",
    "    false += (1 - train.iloc[row]['target'])\n",
    "    text = train.iloc[row]['text']\n",
    "    text = re.sub(r'\\d+','',text)\n",
    "    text = text.translate(sentence.maketrans(\"\",\"\",string.punctuation))\n",
    "    words_in_text = list(set(text.split(' ')) - stop_words)\n",
    "    for index,word in enumerate(words_in_text):\n",
    "        word = pstemmer.stem(word)\n",
    "        words_in_text[index] = wnlemmatizer.lemmatize(word)\n",
    "    for word in words_in_text:\n",
    "        if train.iloc[row]['target'] == 0:   #fake \n",
    "            if word in word_count_false.keys():\n",
    "                word_count_false[word]+=1\n",
    "            else:\n",
    "                word_count_false[word] = 1\n",
    "        elif train.iloc[row]['target'] == 1: #truth \n",
    "            if word in word_count_true.keys():\n",
    "                word_count_true[word]+=1\n",
    "            else:\n",
    "                word_count_true[word] = 1\n",
    "        if word in word_count.keys():        #For all words. I use this to compute probability.\n",
    "            word_count[word]+=1\n",
    "        else:\n",
    "            word_count[word]=1\n",
    "\n",
    "print('Done')"
   ]
  },
  {
   "cell_type": "code",
   "execution_count": 83,
   "id": "a85c2735",
   "metadata": {},
   "outputs": [
    {
     "name": "stdout",
     "output_type": "stream",
     "text": [
      "Total words  180205\n",
      "Minimum probability  1.5935267120492452e-07\n",
      "Total words  1811\n"
     ]
    }
   ],
   "source": [
    "word_probability = {}\n",
    "total_words = 0\n",
    "for i in word_count:\n",
    "    total_words += word_count[i]\n",
    "for i in word_count:\n",
    "    word_probability[i] = word_count[i] / total_words\n",
    "\n",
    "#Eliminating words which are insignificant. Insignificant words are words which have a probability of occurence less than 0.0001.\n",
    "print ('Total words ',len(word_probability))\n",
    "print ('Minimum probability ',min (word_probability.values()))\n",
    "threshold_p = 0.0001\n",
    "for i in list(word_probability):\n",
    "    if word_probability[i] < threshold_p:\n",
    "        del word_probability[i]\n",
    "        if i in list(word_count_false):   #list(dict) return it;s key elements\n",
    "            del word_count_false[i]\n",
    "        if i in list(word_count_true):  \n",
    "            del word_count_true[i]\n",
    "print ('Total words ',len(word_probability))"
   ]
  },
  {
   "cell_type": "code",
   "execution_count": 88,
   "id": "30f306f4",
   "metadata": {},
   "outputs": [],
   "source": [
    "total_fake_words = sum(word_count_false.values())\n",
    "cp_false = {}  #Conditional Probability\n",
    "for i in list(word_count_false):\n",
    "    cp_false[i] = word_count_false[i] / total_fake_words\n",
    "\n",
    "total_true_words = sum(word_count_true.values())\n",
    "cp_true = {}  #Conditional Probability\n",
    "for i in list(word_count_true):\n",
    "    cp_true[i] = word_count_true[i] / total_true_words"
   ]
  },
  {
   "cell_type": "code",
   "execution_count": 89,
   "id": "6d34cd1e",
   "metadata": {},
   "outputs": [
    {
     "name": "stderr",
     "output_type": "stream",
     "text": [
      "/var/folders/cz/mf6k7s456v95hf4y3g4lyfz40000gn/T/ipykernel_36166/907332152.py:37: RuntimeWarning: invalid value encountered in double_scalars\n",
      "  if true_term / (true_term + false_term) > 0.5:\n"
     ]
    },
    {
     "name": "stdout",
     "output_type": "stream",
     "text": [
      "Accuracy is  67.37193763919822\n"
     ]
    }
   ],
   "source": [
    "row_count = test.shape[0]\n",
    "\n",
    "p_true = true / (false + true)\n",
    "p_false = false / (false + true)\n",
    "accuracy = 0\n",
    "\n",
    "for row in range(0, row_count):\n",
    "    text = test.iloc[row]['text']\n",
    "    target = test.iloc[row]['target']\n",
    "    text = re.sub(r'\\d+', '', text)\n",
    "    text = text.translate(text.maketrans(\"\", \"\", string.punctuation))\n",
    "    words_in_text = list(set(text.split(' ')) - stop_words)\n",
    "    for index, word in enumerate(words_in_text):\n",
    "        word = pstemmer.stem(word)\n",
    "        words_in_text[index] = wnlemmatizer.lemmatize(word)\n",
    "    true_term = p_true\n",
    "    false_term = p_false\n",
    "\n",
    "    false_M = len(cp_false.keys())\n",
    "    true_M = len(cp_true.keys())\n",
    "    for word in words_in_text:\n",
    "        if word not in cp_true.keys():\n",
    "            true_M += 1\n",
    "        if word not in cp_false.keys():\n",
    "            false_M += 1\n",
    "\n",
    "    for word in words_in_text:\n",
    "        if word in cp_true.keys():\n",
    "            true_term *= (cp_true[word] + (1 / true_M))\n",
    "        else:\n",
    "            true_term *= (1 / true_M)\n",
    "        if word in cp_false.keys():\n",
    "            false_term *= (cp_false[word] + (1 / false_M))\n",
    "        else:\n",
    "            false_term *= (1 / false_M)\n",
    "\n",
    "    if true_term / (true_term + false_term) > 0.5:\n",
    "        response = 1\n",
    "    else:\n",
    "        response = 0\n",
    "    if target == response:\n",
    "        accuracy += 1\n",
    "\n",
    "print('Accuracy is ', accuracy / row_count * 100)"
   ]
  },
  {
   "cell_type": "code",
   "execution_count": null,
   "id": "6b6d8500",
   "metadata": {},
   "outputs": [],
   "source": []
  }
 ],
 "metadata": {
  "kernelspec": {
   "display_name": "Python 3 (ipykernel)",
   "language": "python",
   "name": "python3"
  },
  "language_info": {
   "codemirror_mode": {
    "name": "ipython",
    "version": 3
   },
   "file_extension": ".py",
   "mimetype": "text/x-python",
   "name": "python",
   "nbconvert_exporter": "python",
   "pygments_lexer": "ipython3",
   "version": "3.8.12"
  }
 },
 "nbformat": 4,
 "nbformat_minor": 5
}
